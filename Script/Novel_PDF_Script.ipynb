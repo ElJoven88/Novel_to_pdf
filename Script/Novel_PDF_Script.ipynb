{
 "cells": [
  {
   "cell_type": "code",
   "execution_count": null,
   "id": "8860ccc5",
   "metadata": {},
   "outputs": [],
   "source": [
    "#author : Mohammad Ahmed Mayariwala\n",
    "#date: 2022-08-25\n",
    "\n",
    "from email import header\n",
    "import requests\n",
    "from bs4 import BeautifulSoup\n",
    "import pandas as pd\n",
    "from fpdf import FPDF\n",
    "import urllib.request\n",
    "import os\n",
    "import time"
   ]
  },
  {
   "cell_type": "code",
   "execution_count": null,
   "id": "1e5272ae",
   "metadata": {},
   "outputs": [],
   "source": [
    "def header(title):\n",
    "    pdf.set_font('helvetica', 'B', 19)\n",
    "    # Calculate width of title and position\n",
    "    title_w = pdf.get_string_width(title) + 6\n",
    "    doc_w = pdf.w\n",
    "    pdf.set_x((doc_w - title_w) / 2)\n",
    "    # colors of frame, background, and text\n",
    "    pdf.set_draw_color(0, 80, 180) # border = blue\n",
    "    pdf.set_fill_color(255, 229, 204) # background = nude \n",
    "    pdf.set_text_color(0, 0, 0) # text = balck\n",
    "    # Thickness of frame (border)\n",
    "    pdf.set_line_width(1)\n",
    "    # Title\n",
    "    pdf.cell(title_w, 10, title, border=1, ln=1, align='C', fill=1)\n",
    "    # Line break\n",
    "    pdf.ln(10)\n",
    "\n",
    "def titlee(title):\n",
    "    pdf.set_font('helvetica', 'b', 16)\n",
    "    # background color\n",
    "    pdf.set_fill_color(200, 220, 255)\n",
    "    pdf.set_text_color(0, 0, 0)\n",
    "    # Chapter title\n",
    "\n",
    "    pdf.cell(0, 5, title, ln=1, fill=1,align=\"C\")\n",
    "    # line break\n",
    "    pdf.ln()\n",
    "\n",
    "def body(txt):\n",
    "    pdf.set_font('times', '', 16)\n",
    "    pdf.set_fill_color(0, 0, 0) # background = yellow\n",
    "    pdf.set_text_color(0, 0, 0)\n",
    "        # insert text\n",
    "    \n",
    "    pdf.multi_cell(0, 10, txt)\n",
    "        # line break\n",
    "    pdf.ln()\n",
    "        # end each chapter\n",
    "    pdf.set_font('times', 'I', 16)\n",
    "    pdf.cell(0, 5, 'END OF CHAPTER')\n",
    "    pdf.ln(30)\n",
    "    \n",
    "def print_pdf(title,txt):\n",
    "    titlee(title)\n",
    "    body(txt)\n"
   ]
  },
  {
   "cell_type": "code",
   "execution_count": 5,
   "id": "d89285ab",
   "metadata": {},
   "outputs": [
    {
     "name": "stdout",
     "output_type": "stream",
     "text": [
      "1st chapter number : 2\n",
      "last chapter number : 40\n",
      "hold up retriving ur novel...\n"
     ]
    },
    {
     "name": "stderr",
     "output_type": "stream",
     "text": [
      "C:\\Users\\Ahmed\\AppData\\Local\\Temp\\ipykernel_10676\\3473486416.py:27: DeprecationWarning: The parameter \"ln\" is deprecated. Instead of ln=1 use new_x=XPos.LMARGIN, new_y=YPos.NEXT.\n",
      "  pdf.cell(title_w, 10, title, border=1, ln=1, align='C', fill=1)\n",
      "C:\\Users\\Ahmed\\AppData\\Local\\Temp\\ipykernel_10676\\3473486416.py:38: DeprecationWarning: The parameter \"ln\" is deprecated. Instead of ln=1 use new_x=XPos.LMARGIN, new_y=YPos.NEXT.\n",
      "  pdf.cell(0, 5, title, ln=1, fill=1,align=\"C\")\n"
     ]
    },
    {
     "name": "stdout",
     "output_type": "stream",
     "text": [
      "25% completed\n",
      "50% completed\n",
      "75% Sheeshh\n",
      "Your novel has been created :\n",
      " file name is  The Proxy Bride of the Billionaire.pdf \n",
      " total number of chapters downloaded = 38\n"
     ]
    }
   ],
   "source": [
    "\n",
    "pdf =FPDF('P', 'mm', 'A4')\n",
    "pdf.add_page()\n",
    "pdf.set_auto_page_break(auto = True, margin = 15)\n",
    "count=0\n",
    "os.system('cls') \n",
    "\n",
    "i= int(input(\"1st chapter number : \"))\n",
    "p=i\n",
    "lst= int(input(\"last chapter number : \"))+1\n",
    "os.system('cls') \n",
    "print(\"hold up retriving ur novel...\")\n",
    "\n",
    "z=[]\n",
    "headers = {\n",
    "    'User-Agent': 'Mozilla/5.0 (Macintosh; Intel Mac OS X 10.12; rv:55.0) Gecko/20100101 Firefox/55.0',\n",
    "}\n",
    "while i < lst:\n",
    "\n",
    "#you can replace this your URL as well jus remember to copy ur url before the chapter number\n",
    "    url='https://tales.xperimentalhamid.com/novel/the-proxy-bride-of-the-billionaire-chapter-'+str(i)+'/'\n",
    "    r=requests.get(url,headers=headers)\n",
    "    soup=BeautifulSoup(r.content,'html.parser')\n",
    "\n",
    "    #if there are more images you can change the if conditions accordingly \n",
    "    images = soup.find_all(\"img\", class_=\"attachment-full size-full\")\n",
    "    number=\"0\"+\".png\"\n",
    "    if count== 0:   \n",
    "        for image in images:\n",
    "            image_src =image[\"src\"]\n",
    "            urllib.request.urlretrieve(image_src,str(number))\n",
    "            number=+1\n",
    "\n",
    "    \n",
    "    heading = soup.find('h1',class_=\"entry-title\") \n",
    "    heading=heading.text\n",
    "    index = heading.index(\"Chapter\")\n",
    "    title= heading[:index-1]\n",
    "    c_title =heading[index:]\n",
    "    \n",
    "    \n",
    "    a=[]\n",
    "    articals= soup.find_all(\"p\")\n",
    "    for artical in articals:\n",
    "        a.append(artical.text)\n",
    "    b=a[4:]\n",
    "    b=b[:-6]\n",
    "    all_ =[]\n",
    "    for a in b:\n",
    "        a=a.replace('“','\"').replace('”','\"\"').replace(\"’\",\"`\").replace(\"é\",\"e\").replace(\"…\",\"...\").replace('\"\"','\"').replace(\"—\" ,\"-\").replace(\"–\" ,\"-\").replace(\"charmap\",\"chr\")\n",
    "        all_.append(a)\n",
    "        z.append(a)\n",
    "    b=all_\n",
    "\n",
    "    with open('try.txt', 'w') as fp:\n",
    "        for item in b:\n",
    "            # write each item on a new line\n",
    "            fp.write(\"%s\\n\" % item)\n",
    "        \n",
    "    str1=\"\"\n",
    "    for item in b:\n",
    "        str1+=(\"%s\\n\" % item)\n",
    "    splited = str1.split(\"\\n\")    \n",
    "\n",
    "    with open (\"try.txt\",\"r\") as fp:\n",
    "        q=fp.read()\n",
    "    if count == 0:\n",
    "        header(title)\n",
    "        pdf.image(\"0.png\",x=-0.5,w=pdf.w+1)\n",
    "        #count+=1\n",
    "    else:\n",
    "        pass\n",
    "    \n",
    "    if count==round((30/100)*(lst-p)):\n",
    "        print('25% completed')\n",
    "    elif count==round((50/100)*(lst-p)):\n",
    "        print(\"50% completed\")\n",
    "    elif count==round((75/100)*(lst-p)):\n",
    "        print(\"75% Sheeshh\")\n",
    "    count+=1\n",
    "    print_pdf(c_title,q)\n",
    "    #pdf.add_page()\n",
    "    \n",
    "    i+=1\n",
    "\n",
    "os.remove(\"try.txt\")\n",
    "os.remove(\"0.png\")\n",
    "os.system(\"cls\")\n",
    "pdf.output(f'{title}.pdf')\n",
    "\n",
    "\n",
    "print(f\"Your novel has been created :\\n file name is  {title}.pdf \\n total number of chapters downloaded = {count-1}\")\n",
    "   "
   ]
  },
  {
   "cell_type": "code",
   "execution_count": 22,
   "id": "31fa1191",
   "metadata": {
    "scrolled": true
   },
   "outputs": [
    {
     "data": {
      "text/plain": [
       "4"
      ]
     },
     "execution_count": 22,
     "metadata": {},
     "output_type": "execute_result"
    }
   ],
   "source": []
  },
  {
   "cell_type": "code",
   "execution_count": 17,
   "id": "3ada0dec",
   "metadata": {},
   "outputs": [
    {
     "data": {
      "text/plain": [
       "26"
      ]
     },
     "execution_count": 17,
     "metadata": {},
     "output_type": "execute_result"
    }
   ],
   "source": []
  }
 ],
 "metadata": {
  "kernelspec": {
   "display_name": "Python 3 (ipykernel)",
   "language": "python",
   "name": "python3"
  },
  "language_info": {
   "codemirror_mode": {
    "name": "ipython",
    "version": 3
   },
   "file_extension": ".py",
   "mimetype": "text/x-python",
   "name": "python",
   "nbconvert_exporter": "python",
   "pygments_lexer": "ipython3",
   "version": "3.9.12"
  }
 },
 "nbformat": 4,
 "nbformat_minor": 5
}
